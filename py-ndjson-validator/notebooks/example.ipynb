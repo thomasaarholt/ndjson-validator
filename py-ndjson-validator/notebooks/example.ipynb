{
 "cells": [
  {
   "cell_type": "code",
   "execution_count": 1,
   "id": "a2ce28e8",
   "metadata": {},
   "outputs": [],
   "source": [
    "from py_ndjson_validator import clean_ndjson"
   ]
  },
  {
   "cell_type": "code",
   "execution_count": 16,
   "id": "1b84f7db",
   "metadata": {},
   "outputs": [
    {
     "data": {
      "text/plain": [
       "['/home/thaarholt/repos/ndjson-validator/py-ndjson-validator/output/invalid3']"
      ]
     },
     "execution_count": 16,
     "metadata": {},
     "output_type": "execute_result"
    }
   ],
   "source": [
    "from pathlib import Path\n",
    "\n",
    "\n",
    "cwd = Path.cwd().parent\n",
    "files = [\n",
    "    str(cwd / \"examples/invalid3\"),\n",
    "]\n",
    "\n",
    "output = str(cwd / \"output\")\n",
    "new_files, errors = clean_ndjson(files, output)\n",
    "new_files"
   ]
  },
  {
   "cell_type": "code",
   "execution_count": 14,
   "id": "17aa0b8c",
   "metadata": {},
   "outputs": [
    {
     "data": {
      "text/plain": [
       "PosixPath('/home/thaarholt/repos/ndjson-validator/py-ndjson-validator/notebooks/py-ndjson-validator')"
      ]
     },
     "execution_count": 14,
     "metadata": {},
     "output_type": "execute_result"
    }
   ],
   "source": [
    "cwd"
   ]
  },
  {
   "cell_type": "code",
   "execution_count": 13,
   "id": "4f9f5a4f",
   "metadata": {},
   "outputs": [
    {
     "data": {
      "text/plain": [
       "False"
      ]
     },
     "execution_count": 13,
     "metadata": {},
     "output_type": "execute_result"
    }
   ],
   "source": [
    "(cwd / \"examples/invalid3\").exists()"
   ]
  },
  {
   "cell_type": "code",
   "execution_count": 6,
   "id": "7f0bfd78",
   "metadata": {},
   "outputs": [
    {
     "data": {
      "text/plain": [
       "'/home/thaarholt/repos/ndjson-validator/py-ndjson-validator/examples/invalid2'"
      ]
     },
     "execution_count": 6,
     "metadata": {},
     "output_type": "execute_result"
    }
   ],
   "source": [
    "errors[0].file_path"
   ]
  }
 ],
 "metadata": {
  "kernelspec": {
   "display_name": ".venv",
   "language": "python",
   "name": "python3"
  },
  "language_info": {
   "codemirror_mode": {
    "name": "ipython",
    "version": 3
   },
   "file_extension": ".py",
   "mimetype": "text/x-python",
   "name": "python",
   "nbconvert_exporter": "python",
   "pygments_lexer": "ipython3",
   "version": "3.10.16"
  }
 },
 "nbformat": 4,
 "nbformat_minor": 5
}
