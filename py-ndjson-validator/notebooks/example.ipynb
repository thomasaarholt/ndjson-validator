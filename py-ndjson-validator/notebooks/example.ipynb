{
 "cells": [
  {
   "cell_type": "code",
   "execution_count": null,
   "id": "a2ce28e8",
   "metadata": {},
   "outputs": [
    {
     "data": {
      "text/plain": [
       "991"
      ]
     },
     "execution_count": 2,
     "metadata": {},
     "output_type": "execute_result"
    }
   ],
   "source": [
    "from pathlib import Path\n",
    "from py_ndjson_validator.api import clean_ndjson_serde, py_clean_ndjson, ErrorEntry\n",
    "\n",
    "\n",
    "files = list(Path(\"../../bench_files\").iterdir())\n",
    "\n",
    "new_files, errors = clean_ndjson_serde(files, Path(\"output\"))\n",
    "len(errors)"
   ]
  },
  {
   "cell_type": "code",
   "execution_count": 3,
   "id": "6ca581ff",
   "metadata": {},
   "outputs": [
    {
     "data": {
      "text/plain": [
       "ErrorEntry"
      ]
     },
     "execution_count": 3,
     "metadata": {},
     "output_type": "execute_result"
    }
   ],
   "source": [
    "ErrorEntry"
   ]
  },
  {
   "cell_type": "code",
   "execution_count": 2,
   "id": "a960edd0",
   "metadata": {},
   "outputs": [],
   "source": [
    "files2, errors2 = py_clean_ndjson(files, Path(\"output2\"))"
   ]
  },
  {
   "cell_type": "code",
   "execution_count": 7,
   "id": "869508b5",
   "metadata": {},
   "outputs": [
    {
     "data": {
      "text/plain": [
       "2117"
      ]
     },
     "execution_count": 7,
     "metadata": {},
     "output_type": "execute_result"
    }
   ],
   "source": [
    "errors[0].line_number"
   ]
  },
  {
   "cell_type": "code",
   "execution_count": 8,
   "id": "eea20952",
   "metadata": {},
   "outputs": [
    {
     "data": {
      "text/plain": [
       "'File 0 line 2116'"
      ]
     },
     "execution_count": 8,
     "metadata": {},
     "output_type": "execute_result"
    }
   ],
   "source": [
    "errors2[0]"
   ]
  },
  {
   "cell_type": "code",
   "execution_count": 3,
   "id": "8cc3f630",
   "metadata": {},
   "outputs": [
    {
     "data": {
      "text/plain": [
       "0"
      ]
     },
     "execution_count": 3,
     "metadata": {},
     "output_type": "execute_result"
    }
   ],
   "source": [
    "len(errors2)"
   ]
  },
  {
   "cell_type": "code",
   "execution_count": 3,
   "id": "83ad6e8f",
   "metadata": {},
   "outputs": [
    {
     "data": {
      "text/plain": [
       "['Path',\n",
       " '__builtins__',\n",
       " '__cached__',\n",
       " '__doc__',\n",
       " '__file__',\n",
       " '__loader__',\n",
       " '__name__',\n",
       " '__package__',\n",
       " '__path__',\n",
       " '__spec__',\n",
       " 'json']"
      ]
     },
     "execution_count": 3,
     "metadata": {},
     "output_type": "execute_result"
    }
   ],
   "source": [
    "import py_ndjson_validator\n",
    "dir(py_ndjson_validator)"
   ]
  },
  {
   "cell_type": "code",
   "execution_count": 8,
   "id": "1c5e5d33",
   "metadata": {},
   "outputs": [],
   "source": [
    "import orjsonl"
   ]
  },
  {
   "cell_type": "code",
   "execution_count": 6,
   "id": "c7ba586e",
   "metadata": {},
   "outputs": [
    {
     "data": {
      "text/plain": [
       "<generator object Path.iterdir at 0x7f7e6ca50350>"
      ]
     },
     "execution_count": 6,
     "metadata": {},
     "output_type": "execute_result"
    }
   ],
   "source": [
    "from pathlib import Path\n",
    "\n",
    "Path(\"../../bench_files\").iterdir()"
   ]
  },
  {
   "cell_type": "code",
   "execution_count": 7,
   "id": "cb4fbc5e",
   "metadata": {},
   "outputs": [
    {
     "data": {
      "text/plain": [
       "<module 'orjson' from '/home/thaarholt/repos/ndjson-validator/py-ndjson-validator/.venv/lib/python3.10/site-packages/orjson/__init__.py'>"
      ]
     },
     "execution_count": 7,
     "metadata": {},
     "output_type": "execute_result"
    }
   ],
   "source": [
    "orjson"
   ]
  },
  {
   "cell_type": "code",
   "execution_count": null,
   "id": "1b84f7db",
   "metadata": {},
   "outputs": [
    {
     "data": {
      "text/plain": [
       "['/home/thaarholt/repos/ndjson-validator/py-ndjson-validator/output/invalid3']"
      ]
     },
     "execution_count": 16,
     "metadata": {},
     "output_type": "execute_result"
    }
   ],
   "source": [
    "\n",
    "cwd = Path.cwd().parent\n",
    "files = [\n",
    "    str(cwd / \"examples/invalid3\"),\n",
    "]\n",
    "\n",
    "output = str(cwd / \"output\")\n",
    "new_files, errors = clean_ndjson_serde(files, output)\n",
    "new_files"
   ]
  },
  {
   "cell_type": "code",
   "execution_count": 14,
   "id": "17aa0b8c",
   "metadata": {},
   "outputs": [
    {
     "data": {
      "text/plain": [
       "PosixPath('/home/thaarholt/repos/ndjson-validator/py-ndjson-validator/notebooks/py-ndjson-validator')"
      ]
     },
     "execution_count": 14,
     "metadata": {},
     "output_type": "execute_result"
    }
   ],
   "source": [
    "cwd"
   ]
  },
  {
   "cell_type": "code",
   "execution_count": 13,
   "id": "4f9f5a4f",
   "metadata": {},
   "outputs": [
    {
     "data": {
      "text/plain": [
       "False"
      ]
     },
     "execution_count": 13,
     "metadata": {},
     "output_type": "execute_result"
    }
   ],
   "source": [
    "(cwd / \"examples/invalid3\").exists()"
   ]
  },
  {
   "cell_type": "code",
   "execution_count": 6,
   "id": "7f0bfd78",
   "metadata": {},
   "outputs": [
    {
     "data": {
      "text/plain": [
       "'/home/thaarholt/repos/ndjson-validator/py-ndjson-validator/examples/invalid2'"
      ]
     },
     "execution_count": 6,
     "metadata": {},
     "output_type": "execute_result"
    }
   ],
   "source": [
    "errors[0].file_path"
   ]
  }
 ],
 "metadata": {
  "kernelspec": {
   "display_name": ".venv",
   "language": "python",
   "name": "python3"
  },
  "language_info": {
   "codemirror_mode": {
    "name": "ipython",
    "version": 3
   },
   "file_extension": ".py",
   "mimetype": "text/x-python",
   "name": "python",
   "nbconvert_exporter": "python",
   "pygments_lexer": "ipython3",
   "version": "3.13.2"
  }
 },
 "nbformat": 4,
 "nbformat_minor": 5
}
